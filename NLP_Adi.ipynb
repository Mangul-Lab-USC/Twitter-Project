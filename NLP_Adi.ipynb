{
  "nbformat": 4,
  "nbformat_minor": 0,
  "metadata": {
    "kernelspec": {
      "display_name": "Python 3",
      "language": "python",
      "name": "python3"
    },
    "language_info": {
      "codemirror_mode": {
        "name": "ipython",
        "version": 3
      },
      "file_extension": ".py",
      "mimetype": "text/x-python",
      "name": "python",
      "nbconvert_exporter": "python",
      "pygments_lexer": "ipython3",
      "version": "3.7.3"
    },
    "colab": {
      "name": "NLP_Adi.ipynb",
      "provenance": [],
      "toc_visible": true
    }
  },
  "cells": [
    {
      "cell_type": "code",
      "metadata": {
        "id": "doJsl51-euyc"
      },
      "source": [
        "import pandas as pd\n",
        "import numpy as np\n",
        "from scipy.stats import pearsonr\n",
        "\n",
        "df = pd.read_excel('drive/MyDrive/twitter_info_total_final_1.xlsx',dtype=object)"
      ],
      "execution_count": null,
      "outputs": []
    },
    {
      "cell_type": "code",
      "metadata": {
        "colab": {
          "base_uri": "https://localhost:8080/",
          "height": 443
        },
        "id": "gXoqLxbZoV3j",
        "outputId": "5c947562-0e7d-4588-f731-7fb0f33f5e8d"
      },
      "source": [
        "df.head()"
      ],
      "execution_count": null,
      "outputs": [
        {
          "output_type": "execute_result",
          "data": {
            "text/html": [
              "<div>\n",
              "<style scoped>\n",
              "    .dataframe tbody tr th:only-of-type {\n",
              "        vertical-align: middle;\n",
              "    }\n",
              "\n",
              "    .dataframe tbody tr th {\n",
              "        vertical-align: top;\n",
              "    }\n",
              "\n",
              "    .dataframe thead th {\n",
              "        text-align: right;\n",
              "    }\n",
              "</style>\n",
              "<table border=\"1\" class=\"dataframe\">\n",
              "  <thead>\n",
              "    <tr style=\"text-align: right;\">\n",
              "      <th></th>\n",
              "      <th>Unnamed: 0</th>\n",
              "      <th>Unnamed: 0.1</th>\n",
              "      <th>names</th>\n",
              "      <th>firstnames</th>\n",
              "      <th>twitter names</th>\n",
              "      <th>location</th>\n",
              "      <th>followed</th>\n",
              "      <th>following</th>\n",
              "      <th>favorite_count</th>\n",
              "      <th>listed_count</th>\n",
              "      <th>statused_count</th>\n",
              "      <th>description</th>\n",
              "      <th>tweet 0</th>\n",
              "      <th>tweet 1</th>\n",
              "      <th>tweet 2</th>\n",
              "      <th>tweet 3</th>\n",
              "      <th>tweet 4</th>\n",
              "      <th>tweet 5</th>\n",
              "      <th>tweet 6</th>\n",
              "      <th>tweet 7</th>\n",
              "      <th>tweet 8</th>\n",
              "      <th>tweet 9</th>\n",
              "      <th>tweet 10</th>\n",
              "      <th>tweet 11</th>\n",
              "      <th>tweet 12</th>\n",
              "      <th>tweet 13</th>\n",
              "      <th>tweet 14</th>\n",
              "      <th>tweet 15</th>\n",
              "      <th>tweet 16</th>\n",
              "      <th>tweet 17</th>\n",
              "      <th>tweet 18</th>\n",
              "      <th>tweet 19</th>\n",
              "    </tr>\n",
              "  </thead>\n",
              "  <tbody>\n",
              "    <tr>\n",
              "      <th>0</th>\n",
              "      <td>0</td>\n",
              "      <td>0</td>\n",
              "      <td>Fassbender</td>\n",
              "      <td>Klaus</td>\n",
              "      <td>Klaustrofobo</td>\n",
              "      <td>Chile</td>\n",
              "      <td>16</td>\n",
              "      <td>11</td>\n",
              "      <td>0</td>\n",
              "      <td>0</td>\n",
              "      <td>0</td>\n",
              "      <td>NaN</td>\n",
              "      <td>NaN</td>\n",
              "      <td>NaN</td>\n",
              "      <td>NaN</td>\n",
              "      <td>NaN</td>\n",
              "      <td>NaN</td>\n",
              "      <td>NaN</td>\n",
              "      <td>NaN</td>\n",
              "      <td>NaN</td>\n",
              "      <td>NaN</td>\n",
              "      <td>NaN</td>\n",
              "      <td>NaN</td>\n",
              "      <td>NaN</td>\n",
              "      <td>NaN</td>\n",
              "      <td>NaN</td>\n",
              "      <td>NaN</td>\n",
              "      <td>NaN</td>\n",
              "      <td>NaN</td>\n",
              "      <td>NaN</td>\n",
              "      <td>NaN</td>\n",
              "      <td>NaN</td>\n",
              "    </tr>\n",
              "    <tr>\n",
              "      <th>1</th>\n",
              "      <td>1</td>\n",
              "      <td>1</td>\n",
              "      <td>Jahn</td>\n",
              "      <td>Holger</td>\n",
              "      <td>agile_worker</td>\n",
              "      <td>Hambourg, Allemagne</td>\n",
              "      <td>84</td>\n",
              "      <td>9</td>\n",
              "      <td>16</td>\n",
              "      <td>0</td>\n",
              "      <td>3</td>\n",
              "      <td>Agile Worker, #agilethatpays</td>\n",
              "      <td>Status(_api=&lt;tweepy.api.API object at 0x117e93...</td>\n",
              "      <td>Status(_api=&lt;tweepy.api.API object at 0x117e93...</td>\n",
              "      <td>Status(_api=&lt;tweepy.api.API object at 0x117e93...</td>\n",
              "      <td>NaN</td>\n",
              "      <td>NaN</td>\n",
              "      <td>NaN</td>\n",
              "      <td>NaN</td>\n",
              "      <td>NaN</td>\n",
              "      <td>NaN</td>\n",
              "      <td>NaN</td>\n",
              "      <td>NaN</td>\n",
              "      <td>NaN</td>\n",
              "      <td>NaN</td>\n",
              "      <td>NaN</td>\n",
              "      <td>NaN</td>\n",
              "      <td>NaN</td>\n",
              "      <td>NaN</td>\n",
              "      <td>NaN</td>\n",
              "      <td>NaN</td>\n",
              "      <td>NaN</td>\n",
              "    </tr>\n",
              "    <tr>\n",
              "      <th>2</th>\n",
              "      <td>2</td>\n",
              "      <td>2</td>\n",
              "      <td>Lauer</td>\n",
              "      <td>Martin</td>\n",
              "      <td>MartinLauer</td>\n",
              "      <td>Hull,. East Yorkshire</td>\n",
              "      <td>1840</td>\n",
              "      <td>1873</td>\n",
              "      <td>174</td>\n",
              "      <td>33</td>\n",
              "      <td>1340</td>\n",
              "      <td>MD of @TheOnePoint - IT,Telecoms,Mobile &amp; Digi...</td>\n",
              "      <td>Status(_api=&lt;tweepy.api.API object at 0x117e93...</td>\n",
              "      <td>Status(_api=&lt;tweepy.api.API object at 0x117e93...</td>\n",
              "      <td>Status(_api=&lt;tweepy.api.API object at 0x117e93...</td>\n",
              "      <td>Status(_api=&lt;tweepy.api.API object at 0x117e93...</td>\n",
              "      <td>Status(_api=&lt;tweepy.api.API object at 0x117e93...</td>\n",
              "      <td>Status(_api=&lt;tweepy.api.API object at 0x117e93...</td>\n",
              "      <td>Status(_api=&lt;tweepy.api.API object at 0x117e93...</td>\n",
              "      <td>Status(_api=&lt;tweepy.api.API object at 0x117e93...</td>\n",
              "      <td>Status(_api=&lt;tweepy.api.API object at 0x117e93...</td>\n",
              "      <td>Status(_api=&lt;tweepy.api.API object at 0x117e93...</td>\n",
              "      <td>Status(_api=&lt;tweepy.api.API object at 0x117e93...</td>\n",
              "      <td>Status(_api=&lt;tweepy.api.API object at 0x117e93...</td>\n",
              "      <td>Status(_api=&lt;tweepy.api.API object at 0x117e93...</td>\n",
              "      <td>Status(_api=&lt;tweepy.api.API object at 0x117e93...</td>\n",
              "      <td>Status(_api=&lt;tweepy.api.API object at 0x117e93...</td>\n",
              "      <td>Status(_api=&lt;tweepy.api.API object at 0x117e93...</td>\n",
              "      <td>Status(_api=&lt;tweepy.api.API object at 0x117e93...</td>\n",
              "      <td>Status(_api=&lt;tweepy.api.API object at 0x117e93...</td>\n",
              "      <td>Status(_api=&lt;tweepy.api.API object at 0x117e93...</td>\n",
              "      <td>Status(_api=&lt;tweepy.api.API object at 0x117e93...</td>\n",
              "    </tr>\n",
              "    <tr>\n",
              "      <th>3</th>\n",
              "      <td>3</td>\n",
              "      <td>3</td>\n",
              "      <td>Muche</td>\n",
              "      <td>Rainer</td>\n",
              "      <td>rstropek</td>\n",
              "      <td>Austria</td>\n",
              "      <td>419</td>\n",
              "      <td>1834</td>\n",
              "      <td>867</td>\n",
              "      <td>103</td>\n",
              "      <td>1298</td>\n",
              "      <td>Software developer, entrepreneur, likes his bi...</td>\n",
              "      <td>Status(_api=&lt;tweepy.api.API object at 0x117e93...</td>\n",
              "      <td>Status(_api=&lt;tweepy.api.API object at 0x117e93...</td>\n",
              "      <td>Status(_api=&lt;tweepy.api.API object at 0x117e93...</td>\n",
              "      <td>Status(_api=&lt;tweepy.api.API object at 0x117e93...</td>\n",
              "      <td>Status(_api=&lt;tweepy.api.API object at 0x117e93...</td>\n",
              "      <td>Status(_api=&lt;tweepy.api.API object at 0x117e93...</td>\n",
              "      <td>Status(_api=&lt;tweepy.api.API object at 0x117e93...</td>\n",
              "      <td>Status(_api=&lt;tweepy.api.API object at 0x117e93...</td>\n",
              "      <td>Status(_api=&lt;tweepy.api.API object at 0x117e93...</td>\n",
              "      <td>Status(_api=&lt;tweepy.api.API object at 0x117e93...</td>\n",
              "      <td>Status(_api=&lt;tweepy.api.API object at 0x117e93...</td>\n",
              "      <td>Status(_api=&lt;tweepy.api.API object at 0x117e93...</td>\n",
              "      <td>Status(_api=&lt;tweepy.api.API object at 0x117e93...</td>\n",
              "      <td>Status(_api=&lt;tweepy.api.API object at 0x117e93...</td>\n",
              "      <td>Status(_api=&lt;tweepy.api.API object at 0x117e93...</td>\n",
              "      <td>Status(_api=&lt;tweepy.api.API object at 0x117e93...</td>\n",
              "      <td>Status(_api=&lt;tweepy.api.API object at 0x117e93...</td>\n",
              "      <td>Status(_api=&lt;tweepy.api.API object at 0x117e93...</td>\n",
              "      <td>Status(_api=&lt;tweepy.api.API object at 0x117e93...</td>\n",
              "      <td>Status(_api=&lt;tweepy.api.API object at 0x117e93...</td>\n",
              "    </tr>\n",
              "    <tr>\n",
              "      <th>4</th>\n",
              "      <td>4</td>\n",
              "      <td>4</td>\n",
              "      <td>Schneider</td>\n",
              "      <td>Anja</td>\n",
              "      <td>anjaschneider</td>\n",
              "      <td>Berlin, Allemagne</td>\n",
              "      <td>87</td>\n",
              "      <td>47204</td>\n",
              "      <td>16</td>\n",
              "      <td>630</td>\n",
              "      <td>3647</td>\n",
              "      <td>Anja Schneider is DJ, producer, radio broadcas...</td>\n",
              "      <td>Status(_api=&lt;tweepy.api.API object at 0x117e93...</td>\n",
              "      <td>Status(_api=&lt;tweepy.api.API object at 0x117e93...</td>\n",
              "      <td>Status(_api=&lt;tweepy.api.API object at 0x117e93...</td>\n",
              "      <td>Status(_api=&lt;tweepy.api.API object at 0x117e93...</td>\n",
              "      <td>Status(_api=&lt;tweepy.api.API object at 0x117e93...</td>\n",
              "      <td>Status(_api=&lt;tweepy.api.API object at 0x117e93...</td>\n",
              "      <td>Status(_api=&lt;tweepy.api.API object at 0x117e93...</td>\n",
              "      <td>Status(_api=&lt;tweepy.api.API object at 0x117e93...</td>\n",
              "      <td>Status(_api=&lt;tweepy.api.API object at 0x117e93...</td>\n",
              "      <td>Status(_api=&lt;tweepy.api.API object at 0x117e93...</td>\n",
              "      <td>Status(_api=&lt;tweepy.api.API object at 0x117e93...</td>\n",
              "      <td>Status(_api=&lt;tweepy.api.API object at 0x117e93...</td>\n",
              "      <td>Status(_api=&lt;tweepy.api.API object at 0x117e93...</td>\n",
              "      <td>Status(_api=&lt;tweepy.api.API object at 0x117e93...</td>\n",
              "      <td>Status(_api=&lt;tweepy.api.API object at 0x117e93...</td>\n",
              "      <td>Status(_api=&lt;tweepy.api.API object at 0x117e93...</td>\n",
              "      <td>Status(_api=&lt;tweepy.api.API object at 0x117e93...</td>\n",
              "      <td>Status(_api=&lt;tweepy.api.API object at 0x117e93...</td>\n",
              "      <td>Status(_api=&lt;tweepy.api.API object at 0x117e93...</td>\n",
              "      <td>Status(_api=&lt;tweepy.api.API object at 0x117e93...</td>\n",
              "    </tr>\n",
              "  </tbody>\n",
              "</table>\n",
              "</div>"
            ],
            "text/plain": [
              "  Unnamed: 0  ...                                           tweet 19\n",
              "0          0  ...                                                NaN\n",
              "1          1  ...                                                NaN\n",
              "2          2  ...  Status(_api=<tweepy.api.API object at 0x117e93...\n",
              "3          3  ...  Status(_api=<tweepy.api.API object at 0x117e93...\n",
              "4          4  ...  Status(_api=<tweepy.api.API object at 0x117e93...\n",
              "\n",
              "[5 rows x 32 columns]"
            ]
          },
          "metadata": {
            "tags": []
          },
          "execution_count": 22
        }
      ]
    },
    {
      "cell_type": "code",
      "metadata": {
        "id": "LkoNN_OVofJ7"
      },
      "source": [
        "df=df.drop(['Unnamed: 0','Unnamed: 0.1'],axis=1)"
      ],
      "execution_count": null,
      "outputs": []
    },
    {
      "cell_type": "code",
      "metadata": {
        "id": "r3Rt0FFYeuyj"
      },
      "source": [
        "df1 = pd.read_csv('drive/MyDrive/finucla3.csv')"
      ],
      "execution_count": null,
      "outputs": []
    },
    {
      "cell_type": "code",
      "metadata": {
        "colab": {
          "base_uri": "https://localhost:8080/"
        },
        "id": "1I-qYyT0euyj",
        "outputId": "ef042d32-4fb1-4ae1-9653-6de6d7ba932e"
      },
      "source": [
        "# df1=df1.drop(['Unnamed: 0'],axis=1)\n",
        "df.shape"
      ],
      "execution_count": null,
      "outputs": [
        {
          "output_type": "execute_result",
          "data": {
            "text/plain": [
              "(8376, 30)"
            ]
          },
          "metadata": {
            "tags": []
          },
          "execution_count": 25
        }
      ]
    },
    {
      "cell_type": "code",
      "metadata": {
        "colab": {
          "base_uri": "https://localhost:8080/",
          "height": 295
        },
        "id": "AQTI0eWVeuyl",
        "outputId": "44d533ed-f6b0-4f20-a689-0b388cb33e9d"
      },
      "source": [
        "import matplotlib.pyplot as plt\n",
        "from matplotlib import ticker as mticker\n",
        "import numpy as np\n",
        "import math as m\n",
        "import seaborn as sns\n",
        "\n",
        "data=[df1['0'],df1['1']]\n",
        "log_data = [[np.log10(d+1) for d in row] for row in data]\n",
        "\n",
        "fig, ax = plt.subplots(1, 1)\n",
        "sns.violinplot(data=log_data)\n",
        "ax.yaxis.set_major_formatter(mticker.StrMethodFormatter(\"$10^{{{x:.0f}}}$\"))\n",
        "ax.yaxis.set_ticks([np.log10(x) for p in range(1,5) for x in np.linspace(10**p, 10**(p+1), 10)], minor=True)\n",
        "plt.ylabel('Number')\n",
        "plt.xlabel('citations and h-index')\n",
        "plt.title('Violin plots')\n",
        "plt.show()"
      ],
      "execution_count": null,
      "outputs": [
        {
          "output_type": "display_data",
          "data": {
            "image/png": "[encoded data removed]",
            "text/plain": [
              "<Figure size 432x288 with 1 Axes>"
            ]
          },
          "metadata": {
            "tags": [],
            "needs_background": "light"
          }
        }
      ]
    },
    {
      "cell_type": "code",
      "metadata": {
        "colab": {
          "base_uri": "https://localhost:8080/",
          "height": 443
        },
        "id": "1L1phcoaeuyl",
        "outputId": "d7fc8494-2a6d-43c3-b3f9-fa22dd9beae6"
      },
      "source": [
        "df.head()"
      ],
      "execution_count": null,
      "outputs": [
        {
          "output_type": "execute_result",
          "data": {
            "text/html": [
              "<div>\n",
              "<style scoped>\n",
              "    .dataframe tbody tr th:only-of-type {\n",
              "        vertical-align: middle;\n",
              "    }\n",
              "\n",
              "    .dataframe tbody tr th {\n",
              "        vertical-align: top;\n",
              "    }\n",
              "\n",
              "    .dataframe thead th {\n",
              "        text-align: right;\n",
              "    }\n",
              "</style>\n",
              "<table border=\"1\" class=\"dataframe\">\n",
              "  <thead>\n",
              "    <tr style=\"text-align: right;\">\n",
              "      <th></th>\n",
              "      <th>names</th>\n",
              "      <th>firstnames</th>\n",
              "      <th>twitter names</th>\n",
              "      <th>location</th>\n",
              "      <th>followed</th>\n",
              "      <th>following</th>\n",
              "      <th>favorite_count</th>\n",
              "      <th>listed_count</th>\n",
              "      <th>statused_count</th>\n",
              "      <th>description</th>\n",
              "      <th>tweet 0</th>\n",
              "      <th>tweet 1</th>\n",
              "      <th>tweet 2</th>\n",
              "      <th>tweet 3</th>\n",
              "      <th>tweet 4</th>\n",
              "      <th>tweet 5</th>\n",
              "      <th>tweet 6</th>\n",
              "      <th>tweet 7</th>\n",
              "      <th>tweet 8</th>\n",
              "      <th>tweet 9</th>\n",
              "      <th>tweet 10</th>\n",
              "      <th>tweet 11</th>\n",
              "      <th>tweet 12</th>\n",
              "      <th>tweet 13</th>\n",
              "      <th>tweet 14</th>\n",
              "      <th>tweet 15</th>\n",
              "      <th>tweet 16</th>\n",
              "      <th>tweet 17</th>\n",
              "      <th>tweet 18</th>\n",
              "      <th>tweet 19</th>\n",
              "    </tr>\n",
              "  </thead>\n",
              "  <tbody>\n",
              "    <tr>\n",
              "      <th>0</th>\n",
              "      <td>Fassbender</td>\n",
              "      <td>Klaus</td>\n",
              "      <td>Klaustrofobo</td>\n",
              "      <td>Chile</td>\n",
              "      <td>16</td>\n",
              "      <td>11</td>\n",
              "      <td>0</td>\n",
              "      <td>0</td>\n",
              "      <td>0</td>\n",
              "      <td>NaN</td>\n",
              "      <td>NaN</td>\n",
              "      <td>NaN</td>\n",
              "      <td>NaN</td>\n",
              "      <td>NaN</td>\n",
              "      <td>NaN</td>\n",
              "      <td>NaN</td>\n",
              "      <td>NaN</td>\n",
              "      <td>NaN</td>\n",
              "      <td>NaN</td>\n",
              "      <td>NaN</td>\n",
              "      <td>NaN</td>\n",
              "      <td>NaN</td>\n",
              "      <td>NaN</td>\n",
              "      <td>NaN</td>\n",
              "      <td>NaN</td>\n",
              "      <td>NaN</td>\n",
              "      <td>NaN</td>\n",
              "      <td>NaN</td>\n",
              "      <td>NaN</td>\n",
              "      <td>NaN</td>\n",
              "    </tr>\n",
              "    <tr>\n",
              "      <th>1</th>\n",
              "      <td>Jahn</td>\n",
              "      <td>Holger</td>\n",
              "      <td>agile_worker</td>\n",
              "      <td>Hambourg, Allemagne</td>\n",
              "      <td>84</td>\n",
              "      <td>9</td>\n",
              "      <td>16</td>\n",
              "      <td>0</td>\n",
              "      <td>3</td>\n",
              "      <td>Agile Worker, #agilethatpays</td>\n",
              "      <td>Status(_api=&lt;tweepy.api.API object at 0x117e93...</td>\n",
              "      <td>Status(_api=&lt;tweepy.api.API object at 0x117e93...</td>\n",
              "      <td>Status(_api=&lt;tweepy.api.API object at 0x117e93...</td>\n",
              "      <td>NaN</td>\n",
              "      <td>NaN</td>\n",
              "      <td>NaN</td>\n",
              "      <td>NaN</td>\n",
              "      <td>NaN</td>\n",
              "      <td>NaN</td>\n",
              "      <td>NaN</td>\n",
              "      <td>NaN</td>\n",
              "      <td>NaN</td>\n",
              "      <td>NaN</td>\n",
              "      <td>NaN</td>\n",
              "      <td>NaN</td>\n",
              "      <td>NaN</td>\n",
              "      <td>NaN</td>\n",
              "      <td>NaN</td>\n",
              "      <td>NaN</td>\n",
              "      <td>NaN</td>\n",
              "    </tr>\n",
              "    <tr>\n",
              "      <th>2</th>\n",
              "      <td>Lauer</td>\n",
              "      <td>Martin</td>\n",
              "      <td>MartinLauer</td>\n",
              "      <td>Hull,. East Yorkshire</td>\n",
              "      <td>1840</td>\n",
              "      <td>1873</td>\n",
              "      <td>174</td>\n",
              "      <td>33</td>\n",
              "      <td>1340</td>\n",
              "      <td>MD of @TheOnePoint - IT,Telecoms,Mobile &amp; Digi...</td>\n",
              "      <td>Status(_api=&lt;tweepy.api.API object at 0x117e93...</td>\n",
              "      <td>Status(_api=&lt;tweepy.api.API object at 0x117e93...</td>\n",
              "      <td>Status(_api=&lt;tweepy.api.API object at 0x117e93...</td>\n",
              "      <td>Status(_api=&lt;tweepy.api.API object at 0x117e93...</td>\n",
              "      <td>Status(_api=&lt;tweepy.api.API object at 0x117e93...</td>\n",
              "      <td>Status(_api=&lt;tweepy.api.API object at 0x117e93...</td>\n",
              "      <td>Status(_api=&lt;tweepy.api.API object at 0x117e93...</td>\n",
              "      <td>Status(_api=&lt;tweepy.api.API object at 0x117e93...</td>\n",
              "      <td>Status(_api=&lt;tweepy.api.API object at 0x117e93...</td>\n",
              "      <td>Status(_api=&lt;tweepy.api.API object at 0x117e93...</td>\n",
              "      <td>Status(_api=&lt;tweepy.api.API object at 0x117e93...</td>\n",
              "      <td>Status(_api=&lt;tweepy.api.API object at 0x117e93...</td>\n",
              "      <td>Status(_api=&lt;tweepy.api.API object at 0x117e93...</td>\n",
              "      <td>Status(_api=&lt;tweepy.api.API object at 0x117e93...</td>\n",
              "      <td>Status(_api=&lt;tweepy.api.API object at 0x117e93...</td>\n",
              "      <td>Status(_api=&lt;tweepy.api.API object at 0x117e93...</td>\n",
              "      <td>Status(_api=&lt;tweepy.api.API object at 0x117e93...</td>\n",
              "      <td>Status(_api=&lt;tweepy.api.API object at 0x117e93...</td>\n",
              "      <td>Status(_api=&lt;tweepy.api.API object at 0x117e93...</td>\n",
              "      <td>Status(_api=&lt;tweepy.api.API object at 0x117e93...</td>\n",
              "    </tr>\n",
              "    <tr>\n",
              "      <th>3</th>\n",
              "      <td>Muche</td>\n",
              "      <td>Rainer</td>\n",
              "      <td>rstropek</td>\n",
              "      <td>Austria</td>\n",
              "      <td>419</td>\n",
              "      <td>1834</td>\n",
              "      <td>867</td>\n",
              "      <td>103</td>\n",
              "      <td>1298</td>\n",
              "      <td>Software developer, entrepreneur, likes his bi...</td>\n",
              "      <td>Status(_api=&lt;tweepy.api.API object at 0x117e93...</td>\n",
              "      <td>Status(_api=&lt;tweepy.api.API object at 0x117e93...</td>\n",
              "      <td>Status(_api=&lt;tweepy.api.API object at 0x117e93...</td>\n",
              "      <td>Status(_api=&lt;tweepy.api.API object at 0x117e93...</td>\n",
              "      <td>Status(_api=&lt;tweepy.api.API object at 0x117e93...</td>\n",
              "      <td>Status(_api=&lt;tweepy.api.API object at 0x117e93...</td>\n",
              "      <td>Status(_api=&lt;tweepy.api.API object at 0x117e93...</td>\n",
              "      <td>Status(_api=&lt;tweepy.api.API object at 0x117e93...</td>\n",
              "      <td>Status(_api=&lt;tweepy.api.API object at 0x117e93...</td>\n",
              "      <td>Status(_api=&lt;tweepy.api.API object at 0x117e93...</td>\n",
              "      <td>Status(_api=&lt;tweepy.api.API object at 0x117e93...</td>\n",
              "      <td>Status(_api=&lt;tweepy.api.API object at 0x117e93...</td>\n",
              "      <td>Status(_api=&lt;tweepy.api.API object at 0x117e93...</td>\n",
              "      <td>Status(_api=&lt;tweepy.api.API object at 0x117e93...</td>\n",
              "      <td>Status(_api=&lt;tweepy.api.API object at 0x117e93...</td>\n",
              "      <td>Status(_api=&lt;tweepy.api.API object at 0x117e93...</td>\n",
              "      <td>Status(_api=&lt;tweepy.api.API object at 0x117e93...</td>\n",
              "      <td>Status(_api=&lt;tweepy.api.API object at 0x117e93...</td>\n",
              "      <td>Status(_api=&lt;tweepy.api.API object at 0x117e93...</td>\n",
              "      <td>Status(_api=&lt;tweepy.api.API object at 0x117e93...</td>\n",
              "    </tr>\n",
              "    <tr>\n",
              "      <th>4</th>\n",
              "      <td>Schneider</td>\n",
              "      <td>Anja</td>\n",
              "      <td>anjaschneider</td>\n",
              "      <td>Berlin, Allemagne</td>\n",
              "      <td>87</td>\n",
              "      <td>47204</td>\n",
              "      <td>16</td>\n",
              "      <td>630</td>\n",
              "      <td>3647</td>\n",
              "      <td>Anja Schneider is DJ, producer, radio broadcas...</td>\n",
              "      <td>Status(_api=&lt;tweepy.api.API object at 0x117e93...</td>\n",
              "      <td>Status(_api=&lt;tweepy.api.API object at 0x117e93...</td>\n",
              "      <td>Status(_api=&lt;tweepy.api.API object at 0x117e93...</td>\n",
              "      <td>Status(_api=&lt;tweepy.api.API object at 0x117e93...</td>\n",
              "      <td>Status(_api=&lt;tweepy.api.API object at 0x117e93...</td>\n",
              "      <td>Status(_api=&lt;tweepy.api.API object at 0x117e93...</td>\n",
              "      <td>Status(_api=&lt;tweepy.api.API object at 0x117e93...</td>\n",
              "      <td>Status(_api=&lt;tweepy.api.API object at 0x117e93...</td>\n",
              "      <td>Status(_api=&lt;tweepy.api.API object at 0x117e93...</td>\n",
              "      <td>Status(_api=&lt;tweepy.api.API object at 0x117e93...</td>\n",
              "      <td>Status(_api=&lt;tweepy.api.API object at 0x117e93...</td>\n",
              "      <td>Status(_api=&lt;tweepy.api.API object at 0x117e93...</td>\n",
              "      <td>Status(_api=&lt;tweepy.api.API object at 0x117e93...</td>\n",
              "      <td>Status(_api=&lt;tweepy.api.API object at 0x117e93...</td>\n",
              "      <td>Status(_api=&lt;tweepy.api.API object at 0x117e93...</td>\n",
              "      <td>Status(_api=&lt;tweepy.api.API object at 0x117e93...</td>\n",
              "      <td>Status(_api=&lt;tweepy.api.API object at 0x117e93...</td>\n",
              "      <td>Status(_api=&lt;tweepy.api.API object at 0x117e93...</td>\n",
              "      <td>Status(_api=&lt;tweepy.api.API object at 0x117e93...</td>\n",
              "      <td>Status(_api=&lt;tweepy.api.API object at 0x117e93...</td>\n",
              "    </tr>\n",
              "  </tbody>\n",
              "</table>\n",
              "</div>"
            ],
            "text/plain": [
              "        names  ...                                           tweet 19\n",
              "0  Fassbender  ...                                                NaN\n",
              "1        Jahn  ...                                                NaN\n",
              "2       Lauer  ...  Status(_api=<tweepy.api.API object at 0x117e93...\n",
              "3       Muche  ...  Status(_api=<tweepy.api.API object at 0x117e93...\n",
              "4   Schneider  ...  Status(_api=<tweepy.api.API object at 0x117e93...\n",
              "\n",
              "[5 rows x 30 columns]"
            ]
          },
          "metadata": {
            "tags": []
          },
          "execution_count": 27
        }
      ]
    },
    {
      "cell_type": "code",
      "metadata": {
        "colab": {
          "base_uri": "https://localhost:8080/"
        },
        "id": "BrtAog48euym",
        "outputId": "a6d63531-ed65-4bd4-85a9-2c7cad99203e"
      },
      "source": [
        "df['description'][0]"
      ],
      "execution_count": null,
      "outputs": [
        {
          "output_type": "execute_result",
          "data": {
            "text/plain": [
              "nan"
            ]
          },
          "metadata": {
            "tags": []
          },
          "execution_count": 28
        }
      ]
    },
    {
      "cell_type": "code",
      "metadata": {
        "colab": {
          "base_uri": "https://localhost:8080/",
          "height": 610
        },
        "id": "W6Pp5or1pjwF",
        "outputId": "79ddfc1e-4d41-4321-bf31-efe1f183e504"
      },
      "source": [
        "df = df.drop([\"tweet 0\",\"tweet 1\",\"tweet 2\",\"tweet 3\",\"tweet 4\"],axis=1)\n",
        "df = df.drop([\"tweet 5\",\"tweet 6\",\"tweet 7\",\"tweet 8\",\"tweet 9\"],axis=1)\n",
        "df = df.drop([\"tweet 10\",\"tweet 11\",\"tweet 12\",\"tweet 13\",\"tweet 14\"],axis=1)\n",
        "df = df.drop([\"tweet 15\",\"tweet 16\",\"tweet 17\",\"tweet 18\",\"tweet 19\"],axis=1)\n",
        "df.head(10)"
      ],
      "execution_count": null,
      "outputs": [
        {
          "output_type": "execute_result",
          "data": {
            "text/html": [
              "<div>\n",
              "<style scoped>\n",
              "    .dataframe tbody tr th:only-of-type {\n",
              "        vertical-align: middle;\n",
              "    }\n",
              "\n",
              "    .dataframe tbody tr th {\n",
              "        vertical-align: top;\n",
              "    }\n",
              "\n",
              "    .dataframe thead th {\n",
              "        text-align: right;\n",
              "    }\n",
              "</style>\n",
              "<table border=\"1\" class=\"dataframe\">\n",
              "  <thead>\n",
              "    <tr style=\"text-align: right;\">\n",
              "      <th></th>\n",
              "      <th>names</th>\n",
              "      <th>firstnames</th>\n",
              "      <th>twitter names</th>\n",
              "      <th>location</th>\n",
              "      <th>followed</th>\n",
              "      <th>following</th>\n",
              "      <th>favorite_count</th>\n",
              "      <th>listed_count</th>\n",
              "      <th>statused_count</th>\n",
              "      <th>description</th>\n",
              "    </tr>\n",
              "  </thead>\n",
              "  <tbody>\n",
              "    <tr>\n",
              "      <th>0</th>\n",
              "      <td>Fassbender</td>\n",
              "      <td>Klaus</td>\n",
              "      <td>Klaustrofobo</td>\n",
              "      <td>Chile</td>\n",
              "      <td>16</td>\n",
              "      <td>11</td>\n",
              "      <td>0</td>\n",
              "      <td>0</td>\n",
              "      <td>0</td>\n",
              "      <td>NaN</td>\n",
              "    </tr>\n",
              "    <tr>\n",
              "      <th>1</th>\n",
              "      <td>Jahn</td>\n",
              "      <td>Holger</td>\n",
              "      <td>agile_worker</td>\n",
              "      <td>Hambourg, Allemagne</td>\n",
              "      <td>84</td>\n",
              "      <td>9</td>\n",
              "      <td>16</td>\n",
              "      <td>0</td>\n",
              "      <td>3</td>\n",
              "      <td>Agile Worker, #agilethatpays</td>\n",
              "    </tr>\n",
              "    <tr>\n",
              "      <th>2</th>\n",
              "      <td>Lauer</td>\n",
              "      <td>Martin</td>\n",
              "      <td>MartinLauer</td>\n",
              "      <td>Hull,. East Yorkshire</td>\n",
              "      <td>1840</td>\n",
              "      <td>1873</td>\n",
              "      <td>174</td>\n",
              "      <td>33</td>\n",
              "      <td>1340</td>\n",
              "      <td>MD of @TheOnePoint - IT,Telecoms,Mobile &amp; Digi...</td>\n",
              "    </tr>\n",
              "    <tr>\n",
              "      <th>3</th>\n",
              "      <td>Muche</td>\n",
              "      <td>Rainer</td>\n",
              "      <td>rstropek</td>\n",
              "      <td>Austria</td>\n",
              "      <td>419</td>\n",
              "      <td>1834</td>\n",
              "      <td>867</td>\n",
              "      <td>103</td>\n",
              "      <td>1298</td>\n",
              "      <td>Software developer, entrepreneur, likes his bi...</td>\n",
              "    </tr>\n",
              "    <tr>\n",
              "      <th>4</th>\n",
              "      <td>Schneider</td>\n",
              "      <td>Anja</td>\n",
              "      <td>anjaschneider</td>\n",
              "      <td>Berlin, Allemagne</td>\n",
              "      <td>87</td>\n",
              "      <td>47204</td>\n",
              "      <td>16</td>\n",
              "      <td>630</td>\n",
              "      <td>3647</td>\n",
              "      <td>Anja Schneider is DJ, producer, radio broadcas...</td>\n",
              "    </tr>\n",
              "    <tr>\n",
              "      <th>5</th>\n",
              "      <td>Schroeter</td>\n",
              "      <td>Matthias L.</td>\n",
              "      <td>gran_stat_mech</td>\n",
              "      <td>Göttingen</td>\n",
              "      <td>138</td>\n",
              "      <td>183</td>\n",
              "      <td>365</td>\n",
              "      <td>10</td>\n",
              "      <td>467</td>\n",
              "      <td>pattern formation, minimal music, granular mat...</td>\n",
              "    </tr>\n",
              "    <tr>\n",
              "      <th>6</th>\n",
              "      <td>Otto</td>\n",
              "      <td>Markus</td>\n",
              "      <td>Murkusotto</td>\n",
              "      <td>Gothenburg, Sweden</td>\n",
              "      <td>400</td>\n",
              "      <td>186</td>\n",
              "      <td>436</td>\n",
              "      <td>1</td>\n",
              "      <td>389</td>\n",
              "      <td>•Förvirrad tekniktonåring\\n•Liberal</td>\n",
              "    </tr>\n",
              "    <tr>\n",
              "      <th>7</th>\n",
              "      <td>Ridha</td>\n",
              "      <td>Basil H.</td>\n",
              "      <td>RidhaLoukil</td>\n",
              "      <td>NaN</td>\n",
              "      <td>28</td>\n",
              "      <td>130</td>\n",
              "      <td>0</td>\n",
              "      <td>7</td>\n",
              "      <td>1553</td>\n",
              "      <td>NaN</td>\n",
              "    </tr>\n",
              "    <tr>\n",
              "      <th>8</th>\n",
              "      <td>Cutler</td>\n",
              "      <td>Dawn</td>\n",
              "      <td>DawnCutler4</td>\n",
              "      <td>Camperdown, Sydney</td>\n",
              "      <td>37</td>\n",
              "      <td>17</td>\n",
              "      <td>26</td>\n",
              "      <td>0</td>\n",
              "      <td>8</td>\n",
              "      <td>NaN</td>\n",
              "    </tr>\n",
              "    <tr>\n",
              "      <th>9</th>\n",
              "      <td>Frost</td>\n",
              "      <td>Christopher</td>\n",
              "      <td>chrisfrostmusic</td>\n",
              "      <td>NaN</td>\n",
              "      <td>174</td>\n",
              "      <td>93</td>\n",
              "      <td>455</td>\n",
              "      <td>2</td>\n",
              "      <td>741</td>\n",
              "      <td>Musical composition, production, and performan...</td>\n",
              "    </tr>\n",
              "  </tbody>\n",
              "</table>\n",
              "</div>"
            ],
            "text/plain": [
              "        names  ...                                        description\n",
              "0  Fassbender  ...                                                NaN\n",
              "1        Jahn  ...                       Agile Worker, #agilethatpays\n",
              "2       Lauer  ...  MD of @TheOnePoint - IT,Telecoms,Mobile & Digi...\n",
              "3       Muche  ...  Software developer, entrepreneur, likes his bi...\n",
              "4   Schneider  ...  Anja Schneider is DJ, producer, radio broadcas...\n",
              "5   Schroeter  ...  pattern formation, minimal music, granular mat...\n",
              "6        Otto  ...                •Förvirrad tekniktonåring\\n•Liberal\n",
              "7       Ridha  ...                                                NaN\n",
              "8      Cutler  ...                                                NaN\n",
              "9       Frost  ...  Musical composition, production, and performan...\n",
              "\n",
              "[10 rows x 10 columns]"
            ]
          },
          "metadata": {
            "tags": []
          },
          "execution_count": 29
        }
      ]
    },
    {
      "cell_type": "code",
      "metadata": {
        "colab": {
          "base_uri": "https://localhost:8080/"
        },
        "id": "DoyZBKaneuyn",
        "outputId": "b67f72bf-b87d-4123-bc96-6e70caba3757"
      },
      "source": [
        "c=0\n",
        "df['followed']=df['followed'].fillna(df['followed'].mean())\n",
        "df['following']=df['following'].fillna(df['following'].mean())\n",
        "df.isnull().sum()"
      ],
      "execution_count": null,
      "outputs": [
        {
          "output_type": "execute_result",
          "data": {
            "text/plain": [
              "names                0\n",
              "firstnames           0\n",
              "twitter names        0\n",
              "location          3727\n",
              "followed             0\n",
              "following            0\n",
              "favorite_count     969\n",
              "listed_count       970\n",
              "statused_count     970\n",
              "description       3297\n",
              "dtype: int64"
            ]
          },
          "metadata": {
            "tags": []
          },
          "execution_count": 30
        }
      ]
    },
    {
      "cell_type": "code",
      "metadata": {
        "colab": {
          "base_uri": "https://localhost:8080/",
          "height": 512
        },
        "id": "5bEipecDp0Bw",
        "outputId": "d7df5c89-8e20-4a58-f14d-5762895623ea"
      },
      "source": [
        "df.sort_values(by=['followed'],ascending=False).head(5)"
      ],
      "execution_count": null,
      "outputs": [
        {
          "output_type": "execute_result",
          "data": {
            "text/html": [
              "<div>\n",
              "<style scoped>\n",
              "    .dataframe tbody tr th:only-of-type {\n",
              "        vertical-align: middle;\n",
              "    }\n",
              "\n",
              "    .dataframe tbody tr th {\n",
              "        vertical-align: top;\n",
              "    }\n",
              "\n",
              "    .dataframe thead th {\n",
              "        text-align: right;\n",
              "    }\n",
              "</style>\n",
              "<table border=\"1\" class=\"dataframe\">\n",
              "  <thead>\n",
              "    <tr style=\"text-align: right;\">\n",
              "      <th></th>\n",
              "      <th>names</th>\n",
              "      <th>firstnames</th>\n",
              "      <th>twitter names</th>\n",
              "      <th>location</th>\n",
              "      <th>followed</th>\n",
              "      <th>following</th>\n",
              "      <th>favorite_count</th>\n",
              "      <th>listed_count</th>\n",
              "      <th>statused_count</th>\n",
              "      <th>description</th>\n",
              "    </tr>\n",
              "  </thead>\n",
              "  <tbody>\n",
              "    <tr>\n",
              "      <th>6540</th>\n",
              "      <td>Baranowski</td>\n",
              "      <td>David C</td>\n",
              "      <td>DFBHarvard</td>\n",
              "      <td>USA</td>\n",
              "      <td>153551.0</td>\n",
              "      <td>153625.0</td>\n",
              "      <td>90387</td>\n",
              "      <td>281</td>\n",
              "      <td>63164</td>\n",
              "      <td>Was on Ark with Noah! #MAGA, #Harvard, #Conser...</td>\n",
              "    </tr>\n",
              "    <tr>\n",
              "      <th>2104</th>\n",
              "      <td>Tucker</td>\n",
              "      <td>John A</td>\n",
              "      <td>Johntucker990</td>\n",
              "      <td>Los Angeles, CA</td>\n",
              "      <td>95823.0</td>\n",
              "      <td>91285.0</td>\n",
              "      <td>70756</td>\n",
              "      <td>423</td>\n",
              "      <td>268588</td>\n",
              "      <td>Celebrity Photographer 📸 Party Host / Event pl...</td>\n",
              "    </tr>\n",
              "    <tr>\n",
              "      <th>7061</th>\n",
              "      <td>van Hemmen</td>\n",
              "      <td>Leo J</td>\n",
              "      <td>LeoAuteur</td>\n",
              "      <td>France</td>\n",
              "      <td>48520.0</td>\n",
              "      <td>149748.0</td>\n",
              "      <td>6107</td>\n",
              "      <td>1115</td>\n",
              "      <td>31963</td>\n",
              "      <td>Dépeindre les fonds abyssaux pour encourager l...</td>\n",
              "    </tr>\n",
              "    <tr>\n",
              "      <th>3800</th>\n",
              "      <td>Hogan</td>\n",
              "      <td>David B</td>\n",
              "      <td>WaveDaveHogan</td>\n",
              "      <td>La Jolla &amp; Skopelos</td>\n",
              "      <td>36662.0</td>\n",
              "      <td>38825.0</td>\n",
              "      <td>771</td>\n",
              "      <td>430</td>\n",
              "      <td>2895</td>\n",
              "      <td>Author:\\nThe Last Island\\nfrom Betimes Books</td>\n",
              "    </tr>\n",
              "    <tr>\n",
              "      <th>3905</th>\n",
              "      <td>Fontana</td>\n",
              "      <td>Walter</td>\n",
              "      <td>WalterFontanaof</td>\n",
              "      <td>Padoue, Vénétie</td>\n",
              "      <td>36036.0</td>\n",
              "      <td>59939.0</td>\n",
              "      <td>2669</td>\n",
              "      <td>86</td>\n",
              "      <td>5882</td>\n",
              "      <td>Sono un cantante tutto sommato. https://t.co/0...</td>\n",
              "    </tr>\n",
              "  </tbody>\n",
              "</table>\n",
              "</div>"
            ],
            "text/plain": [
              "           names  ...                                        description\n",
              "6540  Baranowski  ...  Was on Ark with Noah! #MAGA, #Harvard, #Conser...\n",
              "2104      Tucker  ...  Celebrity Photographer 📸 Party Host / Event pl...\n",
              "7061  van Hemmen  ...  Dépeindre les fonds abyssaux pour encourager l...\n",
              "3800       Hogan  ...       Author:\\nThe Last Island\\nfrom Betimes Books\n",
              "3905     Fontana  ...  Sono un cantante tutto sommato. https://t.co/0...\n",
              "\n",
              "[5 rows x 10 columns]"
            ]
          },
          "metadata": {
            "tags": []
          },
          "execution_count": 31
        }
      ]
    },
    {
      "cell_type": "code",
      "metadata": {
        "id": "mMLwCYCheuyn",
        "colab": {
          "base_uri": "https://localhost:8080/",
          "height": 405
        },
        "outputId": "2a575ac1-19a0-4758-eb7e-b93544939376"
      },
      "source": [
        "import matplotlib.pyplot as plt\n",
        "import math as m\n",
        "\n",
        "fing=[]\n",
        "foler=[]\n",
        "\n",
        "for i in range(df.shape[0]):\n",
        "    fing.append(df.iat[i,6]+1)\n",
        "    foler.append(df.iat[i,7]+1)\n",
        "\n",
        "fig=plt.figure()\n",
        "ax=plt.gca()\n",
        "ax.scatter(fing,foler,s=5,c='r')\n",
        "ax.set_yscale('log')\n",
        "ax.set_xscale('log')\n",
        "ax.set_ylim([0,pow(10,9)])\n",
        "ax.set_xlim([0,pow(10,9)])\n",
        "plt.title('followers vs following')\n",
        "plt.xlabel('followers (in log)')\n",
        "plt.ylabel('following (in log)')\n",
        "plt.show()\n",
        "    "
      ],
      "execution_count": null,
      "outputs": [
        {
          "output_type": "stream",
          "text": [
            "/usr/local/lib/python3.7/dist-packages/ipykernel_launcher.py:16: UserWarning: Attempted to set non-positive bottom ylim on a log-scaled axis.\n",
            "Invalid limit will be ignored.\n",
            "  app.launch_new_instance()\n",
            "/usr/local/lib/python3.7/dist-packages/ipykernel_launcher.py:17: UserWarning: Attempted to set non-positive left xlim on a log-scaled axis.\n",
            "Invalid limit will be ignored.\n"
          ],
          "name": "stderr"
        },
        {
          "output_type": "display_data",
          "data": {
            "image/png": "[encoded data removed]",
            "text/plain": [
              "<Figure size 432x288 with 1 Axes>"
            ]
          },
          "metadata": {
            "tags": [],
            "needs_background": "light"
          }
        }
      ]
    },
    {
      "cell_type": "code",
      "metadata": {
        "id": "t4RT539Reuyo",
        "colab": {
          "base_uri": "https://localhost:8080/",
          "height": 295
        },
        "outputId": "7151fcb5-28ba-45a4-a53d-85b896642a7e"
      },
      "source": [
        "import matplotlib.pyplot as plt\n",
        "from matplotlib import ticker as mticker\n",
        "import numpy as np\n",
        "import math as m\n",
        "import seaborn as sns\n",
        "\n",
        "data=[fing,foler]\n",
        "log_data = [[np.log10(d+1) for d in row] for row in data]\n",
        "\n",
        "fig, ax = plt.subplots(1, 1)\n",
        "sns.violinplot(data=log_data)\n",
        "ax.yaxis.set_major_formatter(mticker.StrMethodFormatter(\"$10^{{{x:.0f}}}$\"))\n",
        "ax.yaxis.set_ticks([np.log10(x) for p in range(1,5) for x in np.linspace(10**p, 10**(p+1), 10)], minor=True)\n",
        "plt.ylabel('Number')\n",
        "plt.xlabel('Following and Followers')\n",
        "plt.title('Violin plots')\n",
        "plt.show()"
      ],
      "execution_count": null,
      "outputs": [
        {
          "output_type": "display_data",
          "data": {
            "image/png": "[encoded data removed]",
            "text/plain": [
              "<Figure size 432x288 with 1 Axes>"
            ]
          },
          "metadata": {
            "tags": [],
            "needs_background": "light"
          }
        }
      ]
    },
    {
      "cell_type": "code",
      "metadata": {
        "colab": {
          "base_uri": "https://localhost:8080/"
        },
        "id": "JPw92xhdruPG",
        "outputId": "65d1662a-00e7-45f7-e063-89278921f1d6"
      },
      "source": [
        "df1.shape[0]"
      ],
      "execution_count": null,
      "outputs": [
        {
          "output_type": "execute_result",
          "data": {
            "text/plain": [
              "140"
            ]
          },
          "metadata": {
            "tags": []
          },
          "execution_count": 34
        }
      ]
    },
    {
      "cell_type": "code",
      "metadata": {
        "id": "V0wwjeyeeuyo",
        "colab": {
          "base_uri": "https://localhost:8080/"
        },
        "outputId": "b1ec4edd-c29a-4460-9494-6da1e10ab969"
      },
      "source": [
        "fi=[]\n",
        "\n",
        "for i in df1['2']:\n",
        "    for j in range(df.shape[0]):\n",
        "        if((str(df['firstnames'][j])+' '+str(df['names'][j]))==i):\n",
        "            fi.append(df['followed'][j])\n",
        "            break\n",
        "print(len(fi))"
      ],
      "execution_count": null,
      "outputs": [
        {
          "output_type": "stream",
          "text": [
            "140\n"
          ],
          "name": "stdout"
        }
      ]
    },
    {
      "cell_type": "code",
      "metadata": {
        "id": "J_TGGA4Eeuyp",
        "colab": {
          "base_uri": "https://localhost:8080/",
          "height": 295
        },
        "outputId": "cc458aa9-8730-46cb-a5a6-e35508262dad"
      },
      "source": [
        "fig=plt.figure()\n",
        "ax=plt.gca()\n",
        "ax.scatter(df1['0'],fi,s=7,c='r')\n",
        "plt.xlabel('citations')\n",
        "plt.ylabel('followers')\n",
        "plt.title('followers vs citations')\n",
        "# ax.set_yscale('log')\n",
        "# ax.set_xscale('log')\n",
        "plt.show()"
      ],
      "execution_count": null,
      "outputs": [
        {
          "output_type": "display_data",
          "data": {
            "image/png": "[encoded data removed]",
            "text/plain": [
              "<Figure size 432x288 with 1 Axes>"
            ]
          },
          "metadata": {
            "tags": [],
            "needs_background": "light"
          }
        }
      ]
    },
    {
      "cell_type": "code",
      "metadata": {
        "colab": {
          "base_uri": "https://localhost:8080/"
        },
        "id": "BmlF4vnhwihY",
        "outputId": "e6de0e3d-062a-41ba-fa75-505c0af6e4d6"
      },
      "source": [
        "df1['0'].mean()"
      ],
      "execution_count": null,
      "outputs": [
        {
          "output_type": "execute_result",
          "data": {
            "text/plain": [
              "13642.728571428572"
            ]
          },
          "metadata": {
            "tags": []
          },
          "execution_count": 39
        }
      ]
    },
    {
      "cell_type": "code",
      "metadata": {
        "colab": {
          "base_uri": "https://localhost:8080/"
        },
        "id": "bp0rlxGrwrym",
        "outputId": "829d2c06-ff35-4852-a756-ca56cae1cfc3"
      },
      "source": [
        "df1['0'].std()"
      ],
      "execution_count": null,
      "outputs": [
        {
          "output_type": "execute_result",
          "data": {
            "text/plain": [
              "17360.11037073411"
            ]
          },
          "metadata": {
            "tags": []
          },
          "execution_count": 40
        }
      ]
    },
    {
      "cell_type": "code",
      "metadata": {
        "colab": {
          "base_uri": "https://localhost:8080/"
        },
        "id": "ZfsQLdz8xnxL",
        "outputId": "d047237f-ad60-4ee4-8c87-7d012c6226b7"
      },
      "source": [
        "from scipy.stats import pearsonr\n",
        "\n",
        "corr, _ = pearsonr(df1['0'], fi)\n",
        "print('Pearsons correlation: %.3f' % corr)"
      ],
      "execution_count": null,
      "outputs": [
        {
          "output_type": "stream",
          "text": [
            "Pearsons correlation: -0.062\n"
          ],
          "name": "stdout"
        }
      ]
    },
    {
      "cell_type": "code",
      "metadata": {
        "colab": {
          "base_uri": "https://localhost:8080/"
        },
        "id": "XYzhF0KSyIDv",
        "outputId": "389623a4-41b4-462a-8cd6-e2f70e995789"
      },
      "source": [
        "from scipy.stats import ttest_ind\n",
        "\n",
        "res = ttest_ind(df1['0'], fi).pvalue\n",
        "\n",
        "print(res)"
      ],
      "execution_count": null,
      "outputs": [
        {
          "output_type": "stream",
          "text": [
            "2.999505631251634e-17\n"
          ],
          "name": "stdout"
        }
      ]
    },
    {
      "cell_type": "code",
      "metadata": {
        "id": "DzSbhhItzF51"
      },
      "source": [
        "df1['followers'] = np.array(fi)"
      ],
      "execution_count": null,
      "outputs": []
    },
    {
      "cell_type": "code",
      "metadata": {
        "colab": {
          "base_uri": "https://localhost:8080/",
          "height": 198
        },
        "id": "sSEWZWEezpm2",
        "outputId": "27657401-87f6-45f6-f069-ae870aa41114"
      },
      "source": [
        "df1=df1.rename(columns={\"Unnamed: 0\": \"S.no.\", \"0\": \"citations\", \"1\":\"h-index\", \"2\":\"name\"})\n",
        "df1.head()"
      ],
      "execution_count": null,
      "outputs": [
        {
          "output_type": "execute_result",
          "data": {
            "text/html": [
              "<div>\n",
              "<style scoped>\n",
              "    .dataframe tbody tr th:only-of-type {\n",
              "        vertical-align: middle;\n",
              "    }\n",
              "\n",
              "    .dataframe tbody tr th {\n",
              "        vertical-align: top;\n",
              "    }\n",
              "\n",
              "    .dataframe thead th {\n",
              "        text-align: right;\n",
              "    }\n",
              "</style>\n",
              "<table border=\"1\" class=\"dataframe\">\n",
              "  <thead>\n",
              "    <tr style=\"text-align: right;\">\n",
              "      <th></th>\n",
              "      <th>S.no.</th>\n",
              "      <th>citations</th>\n",
              "      <th>h-index</th>\n",
              "      <th>name</th>\n",
              "      <th>followers</th>\n",
              "    </tr>\n",
              "  </thead>\n",
              "  <tbody>\n",
              "    <tr>\n",
              "      <th>0</th>\n",
              "      <td>0</td>\n",
              "      <td>1448</td>\n",
              "      <td>20</td>\n",
              "      <td>Andrea Arighi</td>\n",
              "      <td>465.0</td>\n",
              "    </tr>\n",
              "    <tr>\n",
              "      <th>1</th>\n",
              "      <td>1</td>\n",
              "      <td>3899</td>\n",
              "      <td>35</td>\n",
              "      <td>Neil M. Davies</td>\n",
              "      <td>699.0</td>\n",
              "    </tr>\n",
              "    <tr>\n",
              "      <th>2</th>\n",
              "      <td>2</td>\n",
              "      <td>30587</td>\n",
              "      <td>83</td>\n",
              "      <td>Sebastiaan Engelborghs</td>\n",
              "      <td>213.0</td>\n",
              "    </tr>\n",
              "    <tr>\n",
              "      <th>3</th>\n",
              "      <td>3</td>\n",
              "      <td>46051</td>\n",
              "      <td>103</td>\n",
              "      <td>Simon Lovestone</td>\n",
              "      <td>162.0</td>\n",
              "    </tr>\n",
              "    <tr>\n",
              "      <th>4</th>\n",
              "      <td>4</td>\n",
              "      <td>114</td>\n",
              "      <td>5</td>\n",
              "      <td>Antonietta Gabriella Liuzzi</td>\n",
              "      <td>210.0</td>\n",
              "    </tr>\n",
              "  </tbody>\n",
              "</table>\n",
              "</div>"
            ],
            "text/plain": [
              "   S.no.  citations  h-index                         name  followers\n",
              "0      0       1448       20                Andrea Arighi      465.0\n",
              "1      1       3899       35               Neil M. Davies      699.0\n",
              "2      2      30587       83       Sebastiaan Engelborghs      213.0\n",
              "3      3      46051      103              Simon Lovestone      162.0\n",
              "4      4        114        5  Antonietta Gabriella Liuzzi      210.0"
            ]
          },
          "metadata": {
            "tags": []
          },
          "execution_count": 49
        }
      ]
    },
    {
      "cell_type": "code",
      "metadata": {
        "colab": {
          "base_uri": "https://localhost:8080/",
          "height": 198
        },
        "id": "A4Dj0jao1Fwi",
        "outputId": "bfed1f23-5afe-4a98-dab8-09e0834c08f8"
      },
      "source": [
        "df1.sort_values(by=['citations'],ascending=False).head(5)"
      ],
      "execution_count": null,
      "outputs": [
        {
          "output_type": "execute_result",
          "data": {
            "text/html": [
              "<div>\n",
              "<style scoped>\n",
              "    .dataframe tbody tr th:only-of-type {\n",
              "        vertical-align: middle;\n",
              "    }\n",
              "\n",
              "    .dataframe tbody tr th {\n",
              "        vertical-align: top;\n",
              "    }\n",
              "\n",
              "    .dataframe thead th {\n",
              "        text-align: right;\n",
              "    }\n",
              "</style>\n",
              "<table border=\"1\" class=\"dataframe\">\n",
              "  <thead>\n",
              "    <tr style=\"text-align: right;\">\n",
              "      <th></th>\n",
              "      <th>S.no.</th>\n",
              "      <th>citations</th>\n",
              "      <th>h-index</th>\n",
              "      <th>name</th>\n",
              "      <th>followers</th>\n",
              "    </tr>\n",
              "  </thead>\n",
              "  <tbody>\n",
              "    <tr>\n",
              "      <th>45</th>\n",
              "      <td>45</td>\n",
              "      <td>88609</td>\n",
              "      <td>112</td>\n",
              "      <td>Si Zhang</td>\n",
              "      <td>60.0</td>\n",
              "    </tr>\n",
              "    <tr>\n",
              "      <th>99</th>\n",
              "      <td>99</td>\n",
              "      <td>84608</td>\n",
              "      <td>118</td>\n",
              "      <td>Hao Jiang</td>\n",
              "      <td>56.0</td>\n",
              "    </tr>\n",
              "    <tr>\n",
              "      <th>56</th>\n",
              "      <td>56</td>\n",
              "      <td>81093</td>\n",
              "      <td>152</td>\n",
              "      <td>Yi Zhang</td>\n",
              "      <td>462.0</td>\n",
              "    </tr>\n",
              "    <tr>\n",
              "      <th>46</th>\n",
              "      <td>46</td>\n",
              "      <td>58407</td>\n",
              "      <td>118</td>\n",
              "      <td>Martin Knapp</td>\n",
              "      <td>447.0</td>\n",
              "    </tr>\n",
              "    <tr>\n",
              "      <th>96</th>\n",
              "      <td>96</td>\n",
              "      <td>46051</td>\n",
              "      <td>103</td>\n",
              "      <td>Simon Lovestone</td>\n",
              "      <td>162.0</td>\n",
              "    </tr>\n",
              "  </tbody>\n",
              "</table>\n",
              "</div>"
            ],
            "text/plain": [
              "    S.no.  citations  h-index             name  followers\n",
              "45     45      88609      112         Si Zhang       60.0\n",
              "99     99      84608      118        Hao Jiang       56.0\n",
              "56     56      81093      152         Yi Zhang      462.0\n",
              "46     46      58407      118     Martin Knapp      447.0\n",
              "96     96      46051      103  Simon Lovestone      162.0"
            ]
          },
          "metadata": {
            "tags": []
          },
          "execution_count": 52
        }
      ]
    },
    {
      "cell_type": "code",
      "metadata": {
        "id": "cwdmW5oGeuyp",
        "colab": {
          "base_uri": "https://localhost:8080/",
          "height": 295
        },
        "outputId": "12af3799-51b3-454d-e508-0f99d00a5817"
      },
      "source": [
        "import matplotlib.pyplot as plt\n",
        "from matplotlib import ticker as mticker\n",
        "import numpy as np\n",
        "import math as m\n",
        "import seaborn as sns\n",
        "\n",
        "data=[df1['citations'],fi]\n",
        "log_data = [[np.log10(d+1) for d in row] for row in data]\n",
        "\n",
        "fig, ax = plt.subplots(1, 1)\n",
        "sns.violinplot(data=log_data)\n",
        "ax.yaxis.set_major_formatter(mticker.StrMethodFormatter(\"$10^{{{x:.0f}}}$\"))\n",
        "ax.yaxis.set_ticks([np.log10(x) for p in range(1,5) for x in np.linspace(10**p, 10**(p+1), 10)], minor=True)\n",
        "plt.ylabel('Number')\n",
        "plt.xlabel('Followers and Citations')\n",
        "plt.title('Violin plots')\n",
        "plt.show()"
      ],
      "execution_count": null,
      "outputs": [
        {
          "output_type": "display_data",
          "data": {
            "image/png": "[encoded data removed]",
            "text/plain": [
              "<Figure size 432x288 with 1 Axes>"
            ]
          },
          "metadata": {
            "tags": [],
            "needs_background": "light"
          }
        }
      ]
    },
    {
      "cell_type": "code",
      "metadata": {
        "id": "eV3Dm-5Deuyp",
        "colab": {
          "base_uri": "https://localhost:8080/",
          "height": 295
        },
        "outputId": "3cb6f59b-5724-4a4e-f2f3-ee0d836a3ed2"
      },
      "source": [
        "kar=[]\n",
        "for i,j in zip(fi,df1['citations']):\n",
        "    l=43.3*(j**0.32)\n",
        "    kar.append(i/l)\n",
        "\n",
        "fig=plt.figure()\n",
        "ax=plt.gca()\n",
        "ax.scatter(df1['h-index'],kar,s=7,c='r')\n",
        "plt.xlabel('Kardashian index')\n",
        "plt.ylabel('H-index')\n",
        "plt.title('H-index vs K-index')\n",
        "# ax.set_yscale('log')\n",
        "# ax.set_xscale('log')\n",
        "plt.show()\n"
      ],
      "execution_count": null,
      "outputs": [
        {
          "output_type": "display_data",
          "data": {
            "image/png": "[encoded data removed]",
            "text/plain": [
              "<Figure size 432x288 with 1 Axes>"
            ]
          },
          "metadata": {
            "tags": [],
            "needs_background": "light"
          }
        }
      ]
    },
    {
      "cell_type": "code",
      "metadata": {
        "id": "H3cmTemm3BL4"
      },
      "source": [
        "df1['k-index'] = np.array(kar)"
      ],
      "execution_count": null,
      "outputs": []
    },
    {
      "cell_type": "code",
      "metadata": {
        "colab": {
          "base_uri": "https://localhost:8080/",
          "height": 295
        },
        "id": "ubH2fBPO3QMe",
        "outputId": "0dd0bf7c-b174-4dfc-e2ce-bad19b9958bc"
      },
      "source": [
        "fig=plt.figure()\n",
        "ax=plt.gca()\n",
        "ax.scatter(df1['followers'],df1['k-index'],s=7,c='r')\n",
        "plt.xlabel('Kardashian index')\n",
        "plt.ylabel('followers')\n",
        "plt.title('Followers vs K-index')\n",
        "# ax.set_yscale('log')\n",
        "# ax.set_xscale('log')\n",
        "plt.show()"
      ],
      "execution_count": null,
      "outputs": [
        {
          "output_type": "display_data",
          "data": {
            "image/png": "[encoded data removed]",
            "text/plain": [
              "<Figure size 432x288 with 1 Axes>"
            ]
          },
          "metadata": {
            "tags": [],
            "needs_background": "light"
          }
        }
      ]
    },
    {
      "cell_type": "code",
      "metadata": {
        "colab": {
          "base_uri": "https://localhost:8080/"
        },
        "id": "duI9jRMr3nmF",
        "outputId": "62bb97a4-0d2a-4488-b8f7-4cd7a63afb58"
      },
      "source": [
        "from scipy.stats import pearsonr\n",
        "\n",
        "corr, _ = pearsonr(df1['followers'], df1['k-index'])\n",
        "print('Pearsons correlation: %.3f' % corr)"
      ],
      "execution_count": null,
      "outputs": [
        {
          "output_type": "stream",
          "text": [
            "Pearsons correlation: 0.642\n"
          ],
          "name": "stdout"
        }
      ]
    },
    {
      "cell_type": "code",
      "metadata": {
        "colab": {
          "base_uri": "https://localhost:8080/"
        },
        "id": "gSTl4jhP4FHP",
        "outputId": "9bd484fc-930b-42f1-edd5-991ff723e9c0"
      },
      "source": [
        "from scipy.stats import ttest_ind\n",
        "\n",
        "res = ttest_ind(df1['followers'], df1['k-index']).pvalue\n",
        "\n",
        "print(res)"
      ],
      "execution_count": null,
      "outputs": [
        {
          "output_type": "stream",
          "text": [
            "2.5998169078604975e-28\n"
          ],
          "name": "stdout"
        }
      ]
    },
    {
      "cell_type": "code",
      "metadata": {
        "colab": {
          "base_uri": "https://localhost:8080/"
        },
        "id": "J_JUOpbc454L",
        "outputId": "a57d92f1-4ccb-413e-96be-5388bd8fc326"
      },
      "source": [
        "df1['k-index'].std()"
      ],
      "execution_count": null,
      "outputs": [
        {
          "output_type": "execute_result",
          "data": {
            "text/plain": [
              "1.305732930935333"
            ]
          },
          "metadata": {
            "tags": []
          },
          "execution_count": 63
        }
      ]
    },
    {
      "cell_type": "code",
      "metadata": {
        "id": "I3hSd7eOeuyq",
        "outputId": "3495ed96-6b8d-4300-907d-e20499a3a65d"
      },
      "source": [
        "data = [fing,foler] \n",
        "  \n",
        "fig = plt.figure(figsize =(8, 6)) \n",
        "ax = fig.add_subplot(111) \n",
        "   \n",
        "bp = ax.boxplot(data, patch_artist = True, \n",
        "                notch ='True', vert = 0)\n",
        "\n",
        "colors = ['#0000FF', '#00FF00'] \n",
        "  \n",
        "for patch, color in zip(bp['boxes'], colors): \n",
        "    patch.set_facecolor(color) \n",
        "  \n",
        " \n",
        "for whisker in bp['whiskers']: \n",
        "    whisker.set(color ='#8B008B', \n",
        "                linewidth = 1.5, \n",
        "                linestyle =\":\") \n",
        "  \n",
        " \n",
        "for cap in bp['caps']: \n",
        "    cap.set(color ='#8B008B', linewidth = 2) \n",
        "\n",
        "    \n",
        "for median in bp['medians']: \n",
        "    median.set(color ='red', \n",
        "               linewidth = 3) \n",
        "\n",
        "for flier in bp['fliers']: \n",
        "    flier.set(marker ='D', \n",
        "              color ='#e7298a', \n",
        "              alpha = 0.5) \n",
        "      \n",
        "ax.set_xscale('log')\n",
        "ax.set_yticklabels(['following','follower'])\n",
        "ax.set_xlim([0,pow(10,9)])\n",
        "\n",
        "plt.show()"
      ],
      "execution_count": null,
      "outputs": [
        {
          "output_type": "stream",
          "text": [
            "C:\\Users\\Ashis PC\\AppData\\Local\\Continuum\\anaconda3\\lib\\site-packages\\ipykernel_launcher.py:36: UserWarning: Attempted to set non-positive left xlim on a log-scaled axis.\n",
            "Invalid limit will be ignored.\n"
          ],
          "name": "stderr"
        },
        {
          "output_type": "display_data",
          "data": {
            "image/png": "[encoded data removed]",
            "text/plain": [
              "<Figure size 576x432 with 1 Axes>"
            ]
          },
          "metadata": {
            "tags": [],
            "needs_background": "light"
          }
        }
      ]
    },
    {
      "cell_type": "markdown",
      "metadata": {
        "id": "r-FKvpRBeuyq"
      },
      "source": [
        "# scientist finding code"
      ]
    },
    {
      "cell_type": "code",
      "metadata": {
        "id": "D9SDHsz4euyq",
        "outputId": "97741c44-8d52-42bc-83b1-0fbbf7c82952"
      },
      "source": [
        "c=0\n",
        "r=0\n",
        "a=[]\n",
        "l=[]\n",
        "for j in range(8376):\n",
        "    i=df['description'][j]\n",
        "    i=str(i)\n",
        "    if(i.find('scientist')==-1 and i.find('doctor')==-1 and i.find('research')==-1 and i.find('stati')==-1 \n",
        "       and i.find('investi')==-1 and i.find('professor')==-1 and i.find('postdoc')==-1  and i.find('student')==-1 and i.find('graduate')==-1\n",
        "        and i.find('PhD')==-1 and i.find('university')==-1):\n",
        "        a.append(str(df['firstnames'][j])+' '+str(df['names'][j]))\n",
        "        l.append(str(df['location'][j]))\n",
        "        print(i)\n",
        "        print(df['firstnames'][j]+' '+str(df['names'][j]))\n",
        "    if(j==10):\n",
        "        break\n",
        "# print(len(a))\n",
        "# print(len(l))\n",
        "    "
      ],
      "execution_count": null,
      "outputs": [
        {
          "output_type": "stream",
          "text": [
            "Professor of Medical Microbiology at the University of Antwerp. Coordinator of PREPARE, VALUE-Dx, ECRAID-Plan. Founder of the EAAD.\n",
            "Herman Goossens\n",
            "General rummager through life, equine vet (repro), TB breeder, lifelong racing fan, reader, mother x 4, wife x 1 🇮🇪🏇📚\n",
            "M. Osborne\n",
            "nan\n",
            "David Allaway\n",
            "följ mig för en ospeciell internetupplevelse\n",
            "Ann-Carin Holmqvist\n",
            "L’Institut Curie est le premier centre français de recherche et de lutte contre le cancer. Fondation privée reconnue d'utilité publique.\n",
            "Layla K Mahdi\n",
            "nan\n",
            "Tomohiro Tomiyasu\n",
            "hematologist/oncologist. drug development. thoracic onc. precision med. tweets are my own opinions\n",
            "Robert M. Blumenthal\n",
            "Resources about bioinformatics application\n",
            "Lei Zhang\n",
            "Reconnue d’utilité publique, et principale initiative privée de collecte de fonds dans le domaine de la recherche sur les maladies articulaires.\n",
            "Wenhua Zhu\n",
            "Bienvenue sur le compte officiel de la Z Lan par @ZeratoRSC2. #ZLAN\n",
            "Lan Jiang\n",
            "FFUL 💊\n",
            "Sara Silva\n"
          ],
          "name": "stdout"
        }
      ]
    },
    {
      "cell_type": "code",
      "metadata": {
        "id": "_-r98c2beuyr",
        "outputId": "c689948b-b22b-445b-e9d3-0f2834bddcab"
      },
      "source": [
        "print(l[1:5])"
      ],
      "execution_count": null,
      "outputs": [
        {
          "output_type": "stream",
          "text": [
            "['Bristol', 'The Netherlands', 'The Netherlands', 'België']\n"
          ],
          "name": "stdout"
        }
      ]
    },
    {
      "cell_type": "code",
      "metadata": {
        "id": "p_FGqbFNeuyr",
        "outputId": "f78c293a-2093-47bb-bfd0-4b6cc3ce9356"
      },
      "source": [
        "d=list(zip(a,l))\n",
        "df1=pd.DataFrame(d)\n",
        "df1.head(10)"
      ],
      "execution_count": null,
      "outputs": [
        {
          "output_type": "execute_result",
          "data": {
            "text/html": [
              "<div>\n",
              "<style scoped>\n",
              "    .dataframe tbody tr th:only-of-type {\n",
              "        vertical-align: middle;\n",
              "    }\n",
              "\n",
              "    .dataframe tbody tr th {\n",
              "        vertical-align: top;\n",
              "    }\n",
              "\n",
              "    .dataframe thead th {\n",
              "        text-align: right;\n",
              "    }\n",
              "</style>\n",
              "<table border=\"1\" class=\"dataframe\">\n",
              "  <thead>\n",
              "    <tr style=\"text-align: right;\">\n",
              "      <th></th>\n",
              "      <th>0</th>\n",
              "      <th>1</th>\n",
              "    </tr>\n",
              "  </thead>\n",
              "  <tbody>\n",
              "    <tr>\n",
              "      <th>0</th>\n",
              "      <td>Andrea Arighi</td>\n",
              "      <td>Milano, Lombardia</td>\n",
              "    </tr>\n",
              "    <tr>\n",
              "      <th>1</th>\n",
              "      <td>Neil M. Davies</td>\n",
              "      <td>Bristol</td>\n",
              "    </tr>\n",
              "    <tr>\n",
              "      <th>2</th>\n",
              "      <td>Marcel M. Verbeek</td>\n",
              "      <td>The Netherlands</td>\n",
              "    </tr>\n",
              "    <tr>\n",
              "      <th>3</th>\n",
              "      <td>Marcel M. Verbeek</td>\n",
              "      <td>The Netherlands</td>\n",
              "    </tr>\n",
              "    <tr>\n",
              "      <th>4</th>\n",
              "      <td>Sebastiaan Engelborghs</td>\n",
              "      <td>België</td>\n",
              "    </tr>\n",
              "    <tr>\n",
              "      <th>5</th>\n",
              "      <td>Simon Lovestone</td>\n",
              "      <td>Janssen and Oxford</td>\n",
              "    </tr>\n",
              "    <tr>\n",
              "      <th>6</th>\n",
              "      <td>Antonietta Gabriella Liuzzi</td>\n",
              "      <td>nan</td>\n",
              "    </tr>\n",
              "    <tr>\n",
              "      <th>7</th>\n",
              "      <td>Michelle Gyenes</td>\n",
              "      <td>nan</td>\n",
              "    </tr>\n",
              "    <tr>\n",
              "      <th>8</th>\n",
              "      <td>Marieke M. van Buchem</td>\n",
              "      <td>The Netherlands</td>\n",
              "    </tr>\n",
              "    <tr>\n",
              "      <th>9</th>\n",
              "      <td>Craig W. Ritchie</td>\n",
              "      <td>Edinburgh, Scotland</td>\n",
              "    </tr>\n",
              "  </tbody>\n",
              "</table>\n",
              "</div>"
            ],
            "text/plain": [
              "                             0                    1\n",
              "0                Andrea Arighi    Milano, Lombardia\n",
              "1               Neil M. Davies              Bristol\n",
              "2            Marcel M. Verbeek      The Netherlands\n",
              "3            Marcel M. Verbeek      The Netherlands\n",
              "4       Sebastiaan Engelborghs               België\n",
              "5              Simon Lovestone   Janssen and Oxford\n",
              "6  Antonietta Gabriella Liuzzi                  nan\n",
              "7              Michelle Gyenes                  nan\n",
              "8        Marieke M. van Buchem      The Netherlands\n",
              "9             Craig W. Ritchie  Edinburgh, Scotland"
            ]
          },
          "metadata": {
            "tags": []
          },
          "execution_count": 20
        }
      ]
    },
    {
      "cell_type": "code",
      "metadata": {
        "id": "jxR4qP_Eeuyr"
      },
      "source": [
        "df1.to_csv('ucla.csv')"
      ],
      "execution_count": null,
      "outputs": []
    },
    {
      "cell_type": "code",
      "metadata": {
        "id": "xAKgGIF6euys",
        "outputId": "01a5feb3-1295-4c5b-ace9-143ae4e44d74"
      },
      "source": [
        "plt.scatter(c,f)\n",
        "plt.title(\"log f vs log c\")\n",
        "plt.xlabel(\"# of citations\")\n",
        "plt.ylabel(\"# of followers\")\n",
        "plt.show()"
      ],
      "execution_count": null,
      "outputs": [
        {
          "output_type": "display_data",
          "data": {
            "image/png": "[encoded data removed]",
            "text/plain": [
              "<Figure size 432x288 with 1 Axes>"
            ]
          },
          "metadata": {
            "tags": [],
            "needs_background": "light"
          }
        }
      ]
    },
    {
      "cell_type": "code",
      "metadata": {
        "id": "pOCmXztteuys",
        "outputId": "385b70aa-de04-4708-8cb1-fea15303c0cb"
      },
      "source": [
        "print(pearsonr(f,c))"
      ],
      "execution_count": null,
      "outputs": [
        {
          "output_type": "stream",
          "text": [
            "(0.7455668903013717, 0.0)\n"
          ],
          "name": "stdout"
        }
      ]
    },
    {
      "cell_type": "markdown",
      "metadata": {
        "id": "9hvS2Gt8euys"
      },
      "source": [
        "Analysis 1"
      ]
    },
    {
      "cell_type": "code",
      "metadata": {
        "id": "XE406tjBeuys",
        "outputId": "b0522189-e9b8-4693-ab60-7acf48dfd4c0"
      },
      "source": [
        "k_ind=[]\n",
        "cit_sc=[]\n",
        "\n",
        "for i in range(8376):\n",
        "    fa=df.iat[i,6]\n",
        "    fc=43.3*pow(df.iat[i,])\n",
        "    break"
      ],
      "execution_count": null,
      "outputs": [
        {
          "output_type": "stream",
          "text": [
            "16.0\n"
          ],
          "name": "stdout"
        }
      ]
    },
    {
      "cell_type": "code",
      "metadata": {
        "id": "S5jQIbMOeuyt",
        "outputId": "1fc7ae38-d331-4706-e948-02ad8c60a38b"
      },
      "source": [
        ""
      ],
      "execution_count": null,
      "outputs": [
        {
          "output_type": "execute_result",
          "data": {
            "text/plain": [
              "0                                                     NaN\n",
              "1                            Agile Worker, #agilethatpays\n",
              "2       MD of @TheOnePoint - IT,Telecoms,Mobile & Digi...\n",
              "3       Software developer, entrepreneur, likes his bi...\n",
              "4       Anja Schneider is DJ, producer, radio broadcas...\n",
              "5       pattern formation, minimal music, granular mat...\n",
              "6                     •Förvirrad tekniktonåring\\n•Liberal\n",
              "7                                                     NaN\n",
              "8                                                     NaN\n",
              "9       Musical composition, production, and performan...\n",
              "10      Curator, agriculture & fisheries with Ingenium...\n",
              "11                                                    NaN\n",
              "12      actrice ... Cours Privé...Death in Paradise......\n",
              "13                                                    NaN\n",
              "14      Presenter 🔸 Writer 🔸 Video Producer 🔸 Outside ...\n",
              "15      NIHR National Director for Dementia Research, ...\n",
              "16                                                    NaN\n",
              "17      Pentalogía de Colombia | Premio Clarín de Nove...\n",
              "18                                                    NaN\n",
              "19                                                    NaN\n",
              "20      Director, Duke Keto Medicine Clinic Founder, A...\n",
              "21                                                    NaN\n",
              "22                                                    NaN\n",
              "23      I have the most wicked beard in the NHL.. I al...\n",
              "24                                                    NaN\n",
              "25                                                    NaN\n",
              "26      No et prenguis la vida massa seriosament, tot ...\n",
              "27      18 ans/\\nDessinateur de presse amateur/\\nPubli...\n",
              "28      Adjoint au Maire d'#Aulnay-sous-Bois en charge...\n",
              "29      Investigador ICREA, Catedràtic Genètica @UniBa...\n",
              "                              ...                        \n",
              "8346                                                呀你在看我\n",
              "8347                    Inhale confidence✨\\nExhale doubt💨\n",
              "8348               Niederlassungsleiterin@SecretaryPlusDE\n",
              "8349                                              USM '22\n",
              "8350    Web developer from Sweden living in South Caro...\n",
              "8351                            Olympique de Marseille ⚽️\n",
              "8352    Researcher in #biophysics #physiology #neurosc...\n",
              "8353    Singer for @LOYALSband • Songwriter for @tooth...\n",
              "8354                                                  NaN\n",
              "8355    Networks Explorer; Fascinated by Data, Dynamic...\n",
              "8356    Professor at the University of Washington, Dep...\n",
              "8357    For 25 years, Steve Graves has helped hundreds...\n",
              "8358                                                  NaN\n",
              "8359    Kindergarten teacher @FCEhse, techie, foodie, ...\n",
              "8360    Resurrectionists reach out to people through o...\n",
              "8361    Follower of Jesus, left leaning seeker of just...\n",
              "8362                                                  NaN\n",
              "8363                                                  NaN\n",
              "8364    中華民國第14任總統 President of the Republic of China ...\n",
              "8365                                                  NaN\n",
              "8366    ☆ neon fantasy pop-erotica with a deathwish  ☆...\n",
              "8367                                    | IT-Consultant |\n",
              "8368    Le spécialiste européen des manettes ultra per...\n",
              "8369                                                  NaN\n",
              "8370                                                  NaN\n",
              "8371    Compte officiel de l'académie de @Paris. \\n➡ @...\n",
              "8372    Nerf herder and reader of banned books. Advoca...\n",
              "8373                                                  NaN\n",
              "8374                               been there. been that.\n",
              "8375    drug development, biosimilars, biostatistics, ...\n",
              "Name: description, Length: 8376, dtype: object"
            ]
          },
          "metadata": {
            "tags": []
          },
          "execution_count": 27
        }
      ]
    },
    {
      "cell_type": "code",
      "metadata": {
        "id": "3DawzC_Keuyt"
      },
      "source": [
        ""
      ],
      "execution_count": null,
      "outputs": []
    },
    {
      "cell_type": "code",
      "metadata": {
        "id": "JnuRk66Beuyt"
      },
      "source": [
        ""
      ],
      "execution_count": null,
      "outputs": []
    },
    {
      "cell_type": "code",
      "metadata": {
        "id": "CUfyOj7peuyt",
        "outputId": "4fe0870d-6a5e-43f0-e98c-115a8cfee3bc"
      },
      "source": [
        "cd H:\\Twitter_Project_OBT12\\Twitter_Project"
      ],
      "execution_count": null,
      "outputs": [
        {
          "output_type": "stream",
          "text": [
            "H:\\Twitter_Project_OBT12\\Twitter_Project\n"
          ],
          "name": "stdout"
        }
      ]
    },
    {
      "cell_type": "code",
      "metadata": {
        "id": "obhlLoZAeuyt",
        "outputId": "e8b7a3c4-4ba4-4eca-8f68-f337444dc6b0"
      },
      "source": [
        "ls"
      ],
      "execution_count": null,
      "outputs": [
        {
          "output_type": "stream",
          "text": [
            " Volume in drive H is Backup Plus\n",
            " Volume Serial Number is 5F2B-FBF0\n",
            "\n",
            " Directory of H:\\Twitter_Project_OBT12\\Twitter_Project\n",
            "\n",
            "17-03-2020  23:33    <DIR>          .\n",
            "17-03-2020  23:33    <DIR>          ..\n",
            "16-03-2020  09:28             6,148 .DS_Store\n",
            "24-12-2019  07:01        44,425,694 authors_names.csv\n",
            "13-01-2020  13:53            10,084 domain_bis.xlsx\n",
            "17-03-2020  23:25         2,225,324 Final_Report_OBT12.pdf\n",
            "03-12-2020  02:01             1,662 finucla.csv\n",
            "06-12-2020  00:45             3,943 finucla3.csv\n",
            "16-03-2020  09:25            20,642 NLP.ipynb\n",
            "09-03-2020  09:21            45,145 pro_perso.xlsx\n",
            "17-03-2020  10:46            10,532 scrapping_twitter_data.py\n",
            "12-03-2020  14:21           759,157 sentiment_analysis.xlsx\n",
            "16-03-2020  10:36       118,812,941 twitter_info_total_final_1.xlsx\n",
            "16-03-2020  10:52       123,025,390 twitter_info_total_final_2.xlsx\n",
            "16-03-2020  11:03       130,697,663 twitter_info_total_final_3.xlsx\n",
            "03-12-2020  00:01            16,948 ucla.csv\n",
            "              14 File(s)    420,061,273 bytes\n",
            "               2 Dir(s)  1,997,440,679,936 bytes free\n"
          ],
          "name": "stdout"
        }
      ]
    },
    {
      "cell_type": "code",
      "metadata": {
        "id": "tZegPFfHeuyu"
      },
      "source": [
        ""
      ],
      "execution_count": null,
      "outputs": []
    }
  ]
}